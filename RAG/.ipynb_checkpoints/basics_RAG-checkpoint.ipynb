{
 "cells": [
  {
   "cell_type": "code",
   "execution_count": null,
   "id": "1e9cacce-6d9a-4570-965b-c74d41695a03",
   "metadata": {},
   "outputs": [],
   "source": [
    "from langchain_community.document_loaders import UnstructuredURLLoader\n",
    "urls = ['https://www.victoriaonmove.com.au/local-removalists.html','https://victoriaonmove.com.au/index.html','https://victoriaonmove.com.au/contact.html']\n",
    "loader = UnstructuredURLLoader(urls=urls)\n",
    "data = loader.load()"
   ]
  },
  {
   "cell_type": "code",
   "execution_count": 2,
   "id": "3b0ac3d6-0c7c-499f-a7af-e6330ac08373",
   "metadata": {},
   "outputs": [
    {
     "data": {
      "text/plain": [
       "[Document(metadata={'source': 'https://www.victoriaonmove.com.au/local-removalists.html'}, page_content='Loading...\\n\\nLOCAL REMOVALS\\n\\nYour trusted partner in seamless moving and packing solutions!\\n\\nGoogle logo G\\n\\nGoogle Rating\\n\\nGold star icon\\n\\nGold star icon\\n\\nGold star icon\\n\\nGold star icon\\n\\nGold star icon\\n\\n5 stars, 111 reviews\\n\\n\\n\\nRequst A call for You:\\n\\nLocal removal services via \"Victoria on move\"\\n\\nVictoria on Move is your trusted local moving company in Melbourne, specializing in seamless relocation services. As experienced furniture movers and relocation experts, we provide top-notch packing and moving services tailored to your needs. Whether you\\'re moving across town or relocating interstate, our professional movers ensure a stress-free experience. Count on Victoria on Move for reliable removal services, making us the preferred choice among local movers in Melbourne. Discover why we\\'re recognized for our commitment to quality and customer satisfaction.\\n\\nIcon\\n\\nApartment Moving\\n\\nEfficient and careful relocation services tailored for apartments of all sizes, ensuring smooth transitions to your new home.\\n\\nIcon\\n\\nVilla Moving\\n\\nComprehensive moving solutions for large residences and villas, handling valuable possessions with utmost care and precision.\\n\\nIcon\\n\\nHousehold Moving\\n\\nFull-service moving options for households, including packing, loading, transportation, and unpacking services to simplify your move.\\n\\nIcon\\n\\nOffice Moving\\n\\nSpecialized expertise in office relocations, minimizing downtime and ensuring your business operations continue seamlessly.\\n\\nIcon\\n\\nFurniture Moving\\n\\nExperienced in handling furniture of all sizes and types, ensuring safe transport and setup in your new location.\\n\\nIcon\\n\\nPacking and Unpacking Services\\n\\nOptional packing and unpacking services available to save you time and effort, using high-quality packing materials.\\n\\nIcon\\n\\nCustomized Moving Plans\\n\\nTailored moving plans to fit your specific requirements and schedule, providing personalized service and peace of mind.\\n\\nIcon\\n\\nProfessional Team\\n\\nExperienced and courteous moving professionals dedicated to delivering exceptional service and customer satisfaction throughout the entire moving process.\\n\\nFind removalists travelling to or from Melbourne\\n\\nFrom Melbourne\\n\\nTo Melbourne\\n\\nMoving from Ballarat to MelbourneMoving from Bendigo to MelbourneMoving from Geelong to MelbourneMoving from Melton to MelbourneMoving from Mildura to MelbourneMoving from Mooroopna to MelbourneMoving from Shepparton to MelbourneMoving from Sunbury to MelbourneMoving from Traralgon to MelbourneMoving from Warrnambool to MelbourneMoving from Wodonga to Melbourne\\n\\nMoving from Melbourne to BallaratMoving from Melbourne to BendigoMoving from Melbourne to GeelongMoving from Melbourne to MeltonMoving from Melbourne to MilduraMoving from Melbourne to MooroopnaMoving from Melbourne to SheppartonMoving from Melbourne to SunburyMoving from Melbourne to TraralgonMoving from Melbourne to WarrnamboolMoving from Melbourne to Wodonga\\n\\nLooking for interstate removalists Melbourne? We can also assist with interstate moves to or from Melbourne.\\n\\nGet In Touch\\n\\nWollert Victoria\\n\\n0404922328\\n\\nvictoriaonmove07@gmail.com\\n\\nQuick Links\\n\\nAbout Us Contact Us Our Services Terms & Condition\\n\\nPhoto Gallery\\n\\n\\n\\n\\n\\n\\n\\n\\n\\n\\n\\n\\n\\nCheck us out on Google!\\n\\nreviews\\n\\n© Victoria On Move 2024, All Right Reserved. Designed By HTML Codex\\n\\nHome'),\n",
       " Document(metadata={'source': 'https://victoriaonmove.com.au/index.html'}, page_content=\"Loading...\\n\\nRelocate with confidence\\n\\nYour trusted partner in seamless moving and packing solutions!\\n\\nGoogle logo G\\n\\nGoogle Rating\\n\\nGold star icon\\n\\nGold star icon\\n\\nGold star icon\\n\\nGold star icon\\n\\nGold star icon\\n\\n5 stars, 111 reviews\\n\\n\\n\\n\\n\\n\\n\\n\\n\\nRequst A call for You:\\n\\nExplore Our Fleet\\n\\nVehicles Tailored for Your Moving Needs\\n\\nIcon\\n\\nSmall Truck\\n\\nWith 2 Mover\\n\\nFrom $110/hr\\n\\n4.5 ton 20 cubic Our Small Truck can manage a student apartment, small office .\\n\\nIcon\\n\\nMedium Truck\\n\\nWith 2 Mover\\n\\nFrom $130 p/hr\\n\\n6 ton 30-35 cubic\\n\\nOur Medium trucks can manage 2-3 bedroom with single lounge outdoor boxes and miscellaneous.\\n\\nIcon\\n\\nLarge Truck\\n\\nWith 2 Mover\\n\\nFrom $140 p/hr\\n\\n8 ton 40 cubic Our Large trucks can handle 3-4 bedrooms with double lounge outdoor boxes and miscellaneous.\\n\\nIcon\\n\\nX-Large Truck\\n\\nWith 2 Mover\\n\\nFrom $150 p/hr\\n\\n4.5 ton 20 cubic (10 ton or 50 cubic meter) Our X-Large trucks can handle 3-4 bedrooms double lounge outdoor miscellaneous items.\\n\\n\\n\\nOUR SERVICE\\n\\nWE OFFER QUICK & POWERFUL LOGISTICS SOLUTION\\n\\nFURNITURE REMOVALS:\\n\\nWe are the furniture removals specialists in Victoria. Our Teams are experienced and comes with Furniture moving equipments like- Trolleys. Blankets, Loading Ramps.\\n\\nINSURANCE:\\n\\nVictoria On Move Pvt Ltd. look after your goods arrive safely at your destination. We have Transit and Public liability insurance. Transit insurance covers loading and unloading from vehicle , and Road accident cover.\\n\\n1 BED HOME:\\n\\n1 Bed, Mattress, Tall Boy, Bedside, Refrigerator, Washing Machine, Some Boxes.\\n\\n2 BED HOME:\\n\\n2 Beds, Mattress, Tall Boy, Bedside, Refrigerator, Washing Machine,Dresser, Barbeque, Some Boxes, Loose stuff.\\n\\nBig HOME:\\n\\n4-5 Bed Room, Double Lounge, Mattress, Tall Boy, Bedside, Refrigerator, Washing Machine,Dresser, Barbeque, Some Boxes,Furniture, Loose stuff. Get a Quote\\n\\nInterstate Removalists:\\n\\nSeamless Relocation Across State Lines\\n\\n\\n\\nMelbourne to Sydney Removalists\\n\\nBook Now\\n\\n\\n\\nMelbourne to Brisbane Removalists\\n\\nBook Now\\n\\n\\n\\nMelbourne to Adelaide Removalists\\n\\nBook Now\\n\\n\\n\\nMelbourne to Canberra Removalists\\n\\nBook Now\\n\\n\\n\\nOUR MOVING WORK & ETHICS\\n\\nMoving house furniture is an art that comes with experience and a steadfast commitment to our customers' needs. It's a challenging industry, and not everyone survives for long without the expertise and dedication that we bring to every job. Our long history as Removalists in Melbourne is a testament to our sincerity and hard work.\\n\\nUnlike some other moving companies, we value the trust our customers place in us. Our customer reviews on Google are genuine, and we never manipulate them. We trust in our quality and experience and believe in our destiny to provide top-notch moving and packing services to our clients.\\n\\nContact Us\\n\\nOur Clients Say!\\n\\nDiscover firsthand experiences from our valued clients through their heartfelt testimonials. From seamless moves to exceptional service, our customers share how we've made their relocation journey stress-free and rewarding. Explore their stories and see why they trust us with their moves time and again.\\n\\n\\n\\n\\n\\n\\n\\n\\n\\n\\n\\n\\n\\n\\n\\n\\n\\n\\n\\n\\n\\nGet In Touch\\n\\nWollert Victoria\\n\\n0404922328\\n\\nvictoriaonmove07@gmail.com\\n\\nQuick Links\\n\\nAbout Us Contact Us Our Services Terms & Condition\\n\\nPhoto Gallery\\n\\n\\n\\n\\n\\n\\n\\n\\n\\n\\n\\n\\n\\nCheck us out on Google!\\n\\nreviews\\n\\n© Victoria On Move 2024, All Right Reserved. Designed By HTML Codex\\n\\nHome\"),\n",
       " Document(metadata={'source': 'https://victoriaonmove.com.au/contact.html'}, page_content='Loading...\\n\\n\\n\\nContact Us\\n\\nYou can contact us any way that is convenient for you. We are available 24/7 via fax or email. You can also use a quick contact form below or visit our office personally. We would be happy to answer your questions.\\n\\nWollert Victoria\\n\\nvictoriaonmove07@gmail.com\\n\\n0404922328\\n\\nFind removalists travelling interstate to or from Sydney\\n\\nFrom Sydney\\n\\nTo Sydney\\n\\nMoving from Adelaide to SydneyMoving from Ballarat to SydneyMoving from Bendigo to SydneyMoving from Brisbane to SydneyMoving from Cairns to SydneyMoving from Canberra to SydneyMoving from Darwin to SydneyMoving from Geelong to SydneyMoving from Gold Coast to SydneyMoving from Hobart to SydneyMoving from Melbourne to SydneyMoving from Perth to SydneyMoving from Tasmania to Sydney\\n\\nMoving from Sydney to AdelaideMoving from Sydney to BallaratMoving from Sydney to BendigoMoving from Sydney to BrisbaneMoving from Sydney to BunburyMoving from Sydney to BundabergMoving from Sydney to CairnsMoving from Sydney to CanberraMoving from Sydney to DarwinMoving from Sydney to DevonportMoving from Sydney to Fraser CoastMoving from Sydney to GeelongMoving from Sydney to GeraldtonMoving from Sydney to GladstoneMoving from Sydney to Gold CoastMoving from Sydney to Hervey BayMoving from Sydney to HobartMoving from Sydney to LauncestonMoving from Sydney to MackayMoving from Sydney to MandurahMoving from Sydney to MelbourneMoving from Sydney to MeltonMoving from Sydney to PerthMoving from Sydney to RockhamptonMoving from Sydney to SheppartonMoving from Sydney to Sunshine CoastMoving from Sydney to TasmaniaMoving from Sydney to ToowoombaMoving from Sydney to TownsvilleMoving from Sydney to TraralgonMoving from Sydney to Warrnambool\\n\\nIf you are in need of local removalists services in Sydney we can also help with professional movers for local moves.\\n\\nGet In Touch\\n\\nWollert Victoria\\n\\n0404922328\\n\\nvictoriaonmove07@gmail.com\\n\\nQuick Links\\n\\nAbout Us Contact Us Our Services Terms & Condition\\n\\nPhoto Gallery\\n\\n\\n\\n\\n\\n\\n\\n\\n\\n\\n\\n\\n\\nCheck us out on Google!\\n\\nreviews\\n\\n© Victoria On Move 2024, All Right Reserved. Designed By HTML Codex\\n\\nHome')]"
      ]
     },
     "execution_count": 2,
     "metadata": {},
     "output_type": "execute_result"
    }
   ],
   "source": [
    "data"
   ]
  },
  {
   "cell_type": "code",
   "execution_count": 3,
   "id": "f199854e-42d2-4357-bed2-f03d3e8e96d8",
   "metadata": {},
   "outputs": [
    {
     "name": "stdout",
     "output_type": "stream",
     "text": [
      "Total number of documents:  11\n"
     ]
    }
   ],
   "source": [
    "from langchain.text_splitter import RecursiveCharacterTextSplitter\n",
    "\n",
    "# split data\n",
    "text_splitter = RecursiveCharacterTextSplitter(chunk_size=1000)\n",
    "docs = text_splitter.split_documents(data)\n",
    "\n",
    "\n",
    "print(\"Total number of documents: \",len(docs))"
   ]
  },
  {
   "cell_type": "code",
   "execution_count": 8,
   "id": "0ecf3ac7-3181-4617-9390-fe4f3368f7a4",
   "metadata": {},
   "outputs": [
    {
     "data": {
      "text/plain": [
       "Document(metadata={'source': 'https://www.victoriaonmove.com.au/local-removalists.html'}, page_content='Loading...\\n\\nLOCAL REMOVALS\\n\\nYour trusted partner in seamless moving and packing solutions!\\n\\nGoogle logo G\\n\\nGoogle Rating\\n\\nGold star icon\\n\\nGold star icon\\n\\nGold star icon\\n\\nGold star icon\\n\\nGold star icon\\n\\n5 stars, 111 reviews\\n\\n\\n\\nRequst A call for You:\\n\\nLocal removal services via \"Victoria on move\"\\n\\nVictoria on Move is your trusted local moving company in Melbourne, specializing in seamless relocation services. As experienced furniture movers and relocation experts, we provide top-notch packing and moving services tailored to your needs. Whether you\\'re moving across town or relocating interstate, our professional movers ensure a stress-free experience. Count on Victoria on Move for reliable removal services, making us the preferred choice among local movers in Melbourne. Discover why we\\'re recognized for our commitment to quality and customer satisfaction.\\n\\nIcon\\n\\nApartment Moving')"
      ]
     },
     "execution_count": 8,
     "metadata": {},
     "output_type": "execute_result"
    }
   ],
   "source": [
    "docs[0]"
   ]
  },
  {
   "cell_type": "code",
   "execution_count": 9,
   "id": "5340b0ec-7555-4d58-a034-8acec8c70aff",
   "metadata": {},
   "outputs": [
    {
     "ename": "OpenAIError",
     "evalue": "The api_key client option must be set either by passing api_key to the client or by setting the OPENAI_API_KEY environment variable",
     "output_type": "error",
     "traceback": [
      "\u001b[1;31m---------------------------------------------------------------------------\u001b[0m",
      "\u001b[1;31mOpenAIError\u001b[0m                               Traceback (most recent call last)",
      "Cell \u001b[1;32mIn[9], line 7\u001b[0m\n\u001b[0;32m      4\u001b[0m \u001b[38;5;28;01mfrom\u001b[39;00m \u001b[38;5;21;01mdotenv\u001b[39;00m \u001b[38;5;28;01mimport\u001b[39;00m load_dotenv\n\u001b[0;32m      5\u001b[0m load_dotenv()\n\u001b[1;32m----> 7\u001b[0m vectorstore \u001b[38;5;241m=\u001b[39m Chroma\u001b[38;5;241m.\u001b[39mfrom_documents(documents\u001b[38;5;241m=\u001b[39mdocs, embedding\u001b[38;5;241m=\u001b[39m\u001b[43mOpenAIEmbeddings\u001b[49m\u001b[43m(\u001b[49m\u001b[43m)\u001b[49m)\n",
      "    \u001b[1;31m[... skipping hidden 1 frame]\u001b[0m\n",
      "File \u001b[1;32mc:\\Users\\lione\\AppData\\Local\\Programs\\Python\\Python312\\Lib\\site-packages\\langchain_openai\\embeddings\\base.py:327\u001b[0m, in \u001b[0;36mOpenAIEmbeddings.validate_environment\u001b[1;34m(self)\u001b[0m\n\u001b[0;32m    325\u001b[0m         \u001b[38;5;28mself\u001b[39m\u001b[38;5;241m.\u001b[39mhttp_client \u001b[38;5;241m=\u001b[39m httpx\u001b[38;5;241m.\u001b[39mClient(proxy\u001b[38;5;241m=\u001b[39m\u001b[38;5;28mself\u001b[39m\u001b[38;5;241m.\u001b[39mopenai_proxy)\n\u001b[0;32m    326\u001b[0m     sync_specific \u001b[38;5;241m=\u001b[39m {\u001b[38;5;124m\"\u001b[39m\u001b[38;5;124mhttp_client\u001b[39m\u001b[38;5;124m\"\u001b[39m: \u001b[38;5;28mself\u001b[39m\u001b[38;5;241m.\u001b[39mhttp_client}\n\u001b[1;32m--> 327\u001b[0m     \u001b[38;5;28mself\u001b[39m\u001b[38;5;241m.\u001b[39mclient \u001b[38;5;241m=\u001b[39m \u001b[43mopenai\u001b[49m\u001b[38;5;241;43m.\u001b[39;49m\u001b[43mOpenAI\u001b[49m\u001b[43m(\u001b[49m\u001b[38;5;241;43m*\u001b[39;49m\u001b[38;5;241;43m*\u001b[39;49m\u001b[43mclient_params\u001b[49m\u001b[43m,\u001b[49m\u001b[43m \u001b[49m\u001b[38;5;241;43m*\u001b[39;49m\u001b[38;5;241;43m*\u001b[39;49m\u001b[43msync_specific\u001b[49m\u001b[43m)\u001b[49m\u001b[38;5;241m.\u001b[39membeddings  \u001b[38;5;66;03m# type: ignore[arg-type]\u001b[39;00m\n\u001b[0;32m    328\u001b[0m \u001b[38;5;28;01mif\u001b[39;00m \u001b[38;5;129;01mnot\u001b[39;00m \u001b[38;5;28mself\u001b[39m\u001b[38;5;241m.\u001b[39masync_client:\n\u001b[0;32m    329\u001b[0m     \u001b[38;5;28;01mif\u001b[39;00m \u001b[38;5;28mself\u001b[39m\u001b[38;5;241m.\u001b[39mopenai_proxy \u001b[38;5;129;01mand\u001b[39;00m \u001b[38;5;129;01mnot\u001b[39;00m \u001b[38;5;28mself\u001b[39m\u001b[38;5;241m.\u001b[39mhttp_async_client:\n",
      "File \u001b[1;32mc:\\Users\\lione\\AppData\\Local\\Programs\\Python\\Python312\\Lib\\site-packages\\openai\\_client.py:126\u001b[0m, in \u001b[0;36mOpenAI.__init__\u001b[1;34m(self, api_key, organization, project, base_url, websocket_base_url, timeout, max_retries, default_headers, default_query, http_client, _strict_response_validation)\u001b[0m\n\u001b[0;32m    124\u001b[0m     api_key \u001b[38;5;241m=\u001b[39m os\u001b[38;5;241m.\u001b[39menviron\u001b[38;5;241m.\u001b[39mget(\u001b[38;5;124m\"\u001b[39m\u001b[38;5;124mOPENAI_API_KEY\u001b[39m\u001b[38;5;124m\"\u001b[39m)\n\u001b[0;32m    125\u001b[0m \u001b[38;5;28;01mif\u001b[39;00m api_key \u001b[38;5;129;01mis\u001b[39;00m \u001b[38;5;28;01mNone\u001b[39;00m:\n\u001b[1;32m--> 126\u001b[0m     \u001b[38;5;28;01mraise\u001b[39;00m OpenAIError(\n\u001b[0;32m    127\u001b[0m         \u001b[38;5;124m\"\u001b[39m\u001b[38;5;124mThe api_key client option must be set either by passing api_key to the client or by setting the OPENAI_API_KEY environment variable\u001b[39m\u001b[38;5;124m\"\u001b[39m\n\u001b[0;32m    128\u001b[0m     )\n\u001b[0;32m    129\u001b[0m \u001b[38;5;28mself\u001b[39m\u001b[38;5;241m.\u001b[39mapi_key \u001b[38;5;241m=\u001b[39m api_key\n\u001b[0;32m    131\u001b[0m \u001b[38;5;28;01mif\u001b[39;00m organization \u001b[38;5;129;01mis\u001b[39;00m \u001b[38;5;28;01mNone\u001b[39;00m:\n",
      "\u001b[1;31mOpenAIError\u001b[0m: The api_key client option must be set either by passing api_key to the client or by setting the OPENAI_API_KEY environment variable"
     ]
    }
   ],
   "source": [
    "from langchain_chroma import Chroma\n",
    "from langchain_openai import OpenAIEmbeddings\n",
    "from langchain_openai import OpenAI\n",
    "from dotenv import load_dotenv\n",
    "load_dotenv()\n",
    "\n",
    "vectorstore = Chroma.from_documents(documents=docs, embedding=OpenAIEmbeddings())"
   ]
  },
  {
   "cell_type": "code",
   "execution_count": null,
   "id": "95a78612-e69f-4a9f-9f66-77e11e52f794",
   "metadata": {},
   "outputs": [],
   "source": [
    "retriever = vectorstore.as_retriever(search_type=\"similarity\", search_kwargs={\"k\": 6})\n",
    "\n",
    "retrieved_docs = retriever.invoke(\"What kind of services they provide?\")\n"
   ]
  },
  {
   "cell_type": "code",
   "execution_count": null,
   "id": "d4e7cca7-664b-462f-846c-6d63f67ad440",
   "metadata": {},
   "outputs": [
    {
     "data": {
      "text/plain": [
       "6"
      ]
     },
     "execution_count": 13,
     "metadata": {},
     "output_type": "execute_result"
    }
   ],
   "source": [
    "len(retrieved_docs)"
   ]
  },
  {
   "cell_type": "code",
   "execution_count": null,
   "id": "12c016a2-08cf-44ec-9a24-b5c3593f8024",
   "metadata": {},
   "outputs": [
    {
     "name": "stdout",
     "output_type": "stream",
     "text": [
      "Apartment Moving\n",
      "                                Efficient and careful relocation services tailored for apartments of all sizes, ensuring smooth transitions to your new home.\n",
      "\n",
      "Villa Moving\n",
      "                                 Comprehensive moving solutions for large residences and villas, handling valuable possessions with utmost care and precision.\n",
      "\n",
      "Household Moving\n",
      "                                Full-service moving options for households, including packing, loading, transportation, and unpacking services to simplify your move.\n",
      "\n",
      "Office Moving\n",
      "                                Specialized expertise in office relocations, minimizing downtime and ensuring your business operations continue seamlessly.\n",
      "\n",
      "Furniture Moving\n",
      "                                Experienced in handling furniture of all sizes and types, ensuring safe transport and setup in your new location.\n"
     ]
    }
   ],
   "source": [
    "print(retrieved_docs[0].page_content)"
   ]
  },
  {
   "cell_type": "code",
   "execution_count": null,
   "id": "2ef6353b-1fdd-4e7e-95e1-7c2e6846924f",
   "metadata": {},
   "outputs": [],
   "source": [
    "llm = OpenAI(temperature=0.4, max_tokens=500)"
   ]
  },
  {
   "cell_type": "code",
   "execution_count": null,
   "id": "b100ad98-7922-47e8-bdcf-f8b2bd24a056",
   "metadata": {},
   "outputs": [],
   "source": [
    "from langchain.chains import create_retrieval_chain\n",
    "from langchain.chains.combine_documents import create_stuff_documents_chain\n",
    "from langchain_core.prompts import ChatPromptTemplate\n",
    "\n",
    "system_prompt = (\n",
    "    \"You are an assistant for question-answering tasks. \"\n",
    "    \"Use the following pieces of retrieved context to answer \"\n",
    "    \"the question. If you don't know the answer, say that you \"\n",
    "    \"don't know. Use three sentences maximum and keep the \"\n",
    "    \"answer concise.\"\n",
    "    \"\\n\\n\"\n",
    "    \"{context}\"\n",
    ")\n",
    "\n",
    "prompt = ChatPromptTemplate.from_messages(\n",
    "    [\n",
    "        (\"system\", system_prompt),\n",
    "        (\"human\", \"{input}\"),\n",
    "    ]\n",
    ")"
   ]
  },
  {
   "cell_type": "code",
   "execution_count": null,
   "id": "2a0168bb-7d01-43fe-bf4a-39c50962164d",
   "metadata": {},
   "outputs": [],
   "source": [
    "\n",
    "question_answer_chain = create_stuff_documents_chain(llm, prompt)\n",
    "rag_chain = create_retrieval_chain(retriever, question_answer_chain)"
   ]
  },
  {
   "cell_type": "code",
   "execution_count": null,
   "id": "aaffc0a9-276c-44bd-879d-54318ae0f698",
   "metadata": {},
   "outputs": [
    {
     "name": "stdout",
     "output_type": "stream",
     "text": [
      "\n",
      "\n",
      "System: Victoria on Move provides local and interstate removal services for residential and commercial properties. They also offer packing and unpacking services, as well as customized moving plans to fit specific requirements and schedules. Their team of experienced professionals ensures a stress-free and seamless moving experience for their customers.\n"
     ]
    }
   ],
   "source": [
    "response = rag_chain.invoke({\"input\": \"What kind of services they provide?\"})\n",
    "print(response[\"answer\"])"
   ]
  },
  {
   "cell_type": "code",
   "execution_count": null,
   "id": "d42dbf97-6559-407b-bd9d-499d3b13963f",
   "metadata": {},
   "outputs": [],
   "source": []
  }
 ],
 "metadata": {
  "kernelspec": {
   "display_name": "Python 3",
   "language": "python",
   "name": "python3"
  },
  "language_info": {
   "codemirror_mode": {
    "name": "ipython",
    "version": 3
   },
   "file_extension": ".py",
   "mimetype": "text/x-python",
   "name": "python",
   "nbconvert_exporter": "python",
   "pygments_lexer": "ipython3",
   "version": "3.12.7"
  }
 },
 "nbformat": 4,
 "nbformat_minor": 5
}
